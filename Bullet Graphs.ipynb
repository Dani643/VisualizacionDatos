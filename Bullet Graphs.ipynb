{
 "cells": [
  {
   "cell_type": "code",
   "execution_count": 57,
   "id": "8260a88e",
   "metadata": {},
   "outputs": [
    {
     "name": "stderr",
     "output_type": "stream",
     "text": [
      "C:\\Users\\Administrador\\AppData\\Local\\Temp\\ipykernel_10392\\97305792.py:5: UserWarning:\n",
      "\n",
      "Boolean Series key will be reindexed to match DataFrame index.\n",
      "\n"
     ]
    },
    {
     "data": {
      "application/vnd.plotly.v1+json": {
       "config": {
        "plotlyServerURL": "https://plot.ly"
       },
       "data": [
        {
         "delta": {
          "font": {
           "size": 18
          },
          "reference": 730
         },
         "domain": {
          "x": [
           0.4,
           1
          ],
          "y": [
           0.13,
           0.2
          ]
         },
         "gauge": {
          "axis": {
           "range": [
            null,
            4000
           ]
          },
          "bar": {
           "color": "LightSalmon"
          },
          "borderwidth": 0,
          "shape": "bullet",
          "steps": [
           {
            "color": "IndianRed",
            "range": [
             0,
             350
            ]
           },
           {
            "color": "LightCoral",
            "range": [
             350,
             700
            ]
           },
           {
            "color": "Coral",
            "range": [
             700,
             4000
            ]
           }
          ],
          "threshold": {
           "line": {
            "color": "black",
            "width": 2
           },
           "thickness": 0.75,
           "value": 730
          }
         },
         "mode": "number+gauge+delta",
         "number": {
          "font": {
           "color": "Coral",
           "size": 30
          }
         },
         "title": {
          "font": {
           "color": "DarkBlue",
           "size": 16
          },
          "text": "Number of envents funded by the Arts<br>Commission in a year"
         },
         "type": "indicator",
         "value": 3613
        },
        {
         "delta": {
          "font": {
           "size": 18
          },
          "reference": 620
         },
         "domain": {
          "x": [
           0.4,
           1
          ],
          "y": [
           0.3,
           0.37
          ]
         },
         "gauge": {
          "axis": {
           "range": [
            null,
            800
           ]
          },
          "bar": {
           "color": "black"
          },
          "borderwidth": 0,
          "shape": "bullet",
          "steps": [
           {
            "color": "dimgray",
            "range": [
             0,
             315
            ]
           },
           {
            "color": "gray",
            "range": [
             315,
             600
            ]
           },
           {
            "color": "lightgray",
            "range": [
             600,
             800
            ]
           }
          ],
          "threshold": {
           "line": {
            "color": "black",
            "width": 2
           },
           "thickness": 0.75,
           "value": 620
          }
         },
         "mode": "number+gauge+delta",
         "number": {
          "font": {
           "color": "lightgray",
           "size": 30
          }
         },
         "title": {
          "font": {
           "color": "DarkBlue",
           "size": 16
          },
          "text": "Number of permanently-sited artworks accessible<br>to the public per year"
         },
         "type": "indicator",
         "value": 617
        },
        {
         "delta": {
          "font": {
           "size": 18
          },
          "reference": 350
         },
         "domain": {
          "x": [
           0.4,
           1
          ],
          "y": [
           0.47,
           0.54
          ]
         },
         "gauge": {
          "axis": {
           "range": [
            null,
            900
           ]
          },
          "bar": {
           "color": "#f5b400"
          },
          "borderwidth": 0,
          "shape": "bullet",
          "steps": [
           {
            "color": "#823e00",
            "range": [
             0,
             150
            ]
           },
           {
            "color": "#bc5d00",
            "range": [
             150,
             300
            ]
           },
           {
            "color": "#ff7e00 ",
            "range": [
             300,
             900
            ]
           }
          ],
          "threshold": {
           "line": {
            "color": "black",
            "width": 2
           },
           "thickness": 0.75,
           "value": 350
          }
         },
         "mode": "number+gauge+delta",
         "number": {
          "font": {
           "color": "#ff7e00",
           "size": 30
          }
         },
         "title": {
          "font": {
           "color": "DarkBlue",
           "size": 16
          },
          "text": "Number of artists and organizations attending<br>capacity Workshops per year"
         },
         "type": "indicator",
         "value": 737
        },
        {
         "delta": {
          "font": {
           "size": 18
          },
          "reference": 345
         },
         "domain": {
          "x": [
           0.4,
           1
          ],
          "y": [
           0.64,
           0.71
          ]
         },
         "gauge": {
          "axis": {
           "range": [
            null,
            500
           ]
          },
          "bar": {
           "color": "#b2dff8"
          },
          "borderwidth": 0,
          "shape": "bullet",
          "steps": [
           {
            "color": "#0f354d",
            "range": [
             0,
             175
            ]
           },
           {
            "color": "#144f6e",
            "range": [
             175,
             300
            ]
           },
           {
            "color": "#1e77a0",
            "range": [
             300,
             500
            ]
           }
          ],
          "threshold": {
           "line": {
            "color": "black",
            "width": 2
           },
           "thickness": 0.75,
           "value": 345
          }
         },
         "mode": "number+gauge+delta",
         "number": {
          "font": {
           "color": "#144f6e",
           "size": 30
          }
         },
         "title": {
          "font": {
           "color": "DarkBlue",
           "size": 16
          },
          "text": "Number of payments to individual artists<br>by the Arts Commission"
         },
         "type": "indicator",
         "value": 244
        },
        {
         "delta": {
          "font": {
           "size": 18
          },
          "reference": 16000000
         },
         "domain": {
          "x": [
           0.4,
           1
          ],
          "y": [
           0.81,
           0.88
          ]
         },
         "gauge": {
          "axis": {
           "range": [
            null,
            17000000
           ]
          },
          "bar": {
           "color": "YellowGreen"
          },
          "borderwidth": 0,
          "shape": "bullet",
          "steps": [
           {
            "color": "#536600",
            "range": [
             0,
             7500000
            ]
           },
           {
            "color": "#7d9600",
            "range": [
             7500000,
             15000000
            ]
           },
           {
            "color": "#a8c125",
            "range": [
             15000000,
             17000000
            ]
           }
          ],
          "threshold": {
           "line": {
            "color": "black",
            "width": 2
           },
           "thickness": 0.75,
           "value": 16000000
          }
         },
         "mode": "number+gauge+delta",
         "number": {
          "font": {
           "color": "#7d9600",
           "size": 30
          }
         },
         "title": {
          "font": {
           "color": "DarkBlue",
           "size": 16
          },
          "text": "Total of direct investment in artists and organizations<br>(€/year)"
         },
         "type": "indicator",
         "value": 13448750
        }
       ],
       "layout": {
        "font": {
         "color": "black",
         "size": 10
        },
        "paper_bgcolor": "GhostWhite",
        "plot_bgcolor": "GhostWhite",
        "template": {
         "data": {
          "bar": [
           {
            "error_x": {
             "color": "#2a3f5f"
            },
            "error_y": {
             "color": "#2a3f5f"
            },
            "marker": {
             "line": {
              "color": "#E5ECF6",
              "width": 0.5
             },
             "pattern": {
              "fillmode": "overlay",
              "size": 10,
              "solidity": 0.2
             }
            },
            "type": "bar"
           }
          ],
          "barpolar": [
           {
            "marker": {
             "line": {
              "color": "#E5ECF6",
              "width": 0.5
             },
             "pattern": {
              "fillmode": "overlay",
              "size": 10,
              "solidity": 0.2
             }
            },
            "type": "barpolar"
           }
          ],
          "carpet": [
           {
            "aaxis": {
             "endlinecolor": "#2a3f5f",
             "gridcolor": "white",
             "linecolor": "white",
             "minorgridcolor": "white",
             "startlinecolor": "#2a3f5f"
            },
            "baxis": {
             "endlinecolor": "#2a3f5f",
             "gridcolor": "white",
             "linecolor": "white",
             "minorgridcolor": "white",
             "startlinecolor": "#2a3f5f"
            },
            "type": "carpet"
           }
          ],
          "choropleth": [
           {
            "colorbar": {
             "outlinewidth": 0,
             "ticks": ""
            },
            "type": "choropleth"
           }
          ],
          "contour": [
           {
            "colorbar": {
             "outlinewidth": 0,
             "ticks": ""
            },
            "colorscale": [
             [
              0,
              "#0d0887"
             ],
             [
              0.1111111111111111,
              "#46039f"
             ],
             [
              0.2222222222222222,
              "#7201a8"
             ],
             [
              0.3333333333333333,
              "#9c179e"
             ],
             [
              0.4444444444444444,
              "#bd3786"
             ],
             [
              0.5555555555555556,
              "#d8576b"
             ],
             [
              0.6666666666666666,
              "#ed7953"
             ],
             [
              0.7777777777777778,
              "#fb9f3a"
             ],
             [
              0.8888888888888888,
              "#fdca26"
             ],
             [
              1,
              "#f0f921"
             ]
            ],
            "type": "contour"
           }
          ],
          "contourcarpet": [
           {
            "colorbar": {
             "outlinewidth": 0,
             "ticks": ""
            },
            "type": "contourcarpet"
           }
          ],
          "heatmap": [
           {
            "colorbar": {
             "outlinewidth": 0,
             "ticks": ""
            },
            "colorscale": [
             [
              0,
              "#0d0887"
             ],
             [
              0.1111111111111111,
              "#46039f"
             ],
             [
              0.2222222222222222,
              "#7201a8"
             ],
             [
              0.3333333333333333,
              "#9c179e"
             ],
             [
              0.4444444444444444,
              "#bd3786"
             ],
             [
              0.5555555555555556,
              "#d8576b"
             ],
             [
              0.6666666666666666,
              "#ed7953"
             ],
             [
              0.7777777777777778,
              "#fb9f3a"
             ],
             [
              0.8888888888888888,
              "#fdca26"
             ],
             [
              1,
              "#f0f921"
             ]
            ],
            "type": "heatmap"
           }
          ],
          "heatmapgl": [
           {
            "colorbar": {
             "outlinewidth": 0,
             "ticks": ""
            },
            "colorscale": [
             [
              0,
              "#0d0887"
             ],
             [
              0.1111111111111111,
              "#46039f"
             ],
             [
              0.2222222222222222,
              "#7201a8"
             ],
             [
              0.3333333333333333,
              "#9c179e"
             ],
             [
              0.4444444444444444,
              "#bd3786"
             ],
             [
              0.5555555555555556,
              "#d8576b"
             ],
             [
              0.6666666666666666,
              "#ed7953"
             ],
             [
              0.7777777777777778,
              "#fb9f3a"
             ],
             [
              0.8888888888888888,
              "#fdca26"
             ],
             [
              1,
              "#f0f921"
             ]
            ],
            "type": "heatmapgl"
           }
          ],
          "histogram": [
           {
            "marker": {
             "pattern": {
              "fillmode": "overlay",
              "size": 10,
              "solidity": 0.2
             }
            },
            "type": "histogram"
           }
          ],
          "histogram2d": [
           {
            "colorbar": {
             "outlinewidth": 0,
             "ticks": ""
            },
            "colorscale": [
             [
              0,
              "#0d0887"
             ],
             [
              0.1111111111111111,
              "#46039f"
             ],
             [
              0.2222222222222222,
              "#7201a8"
             ],
             [
              0.3333333333333333,
              "#9c179e"
             ],
             [
              0.4444444444444444,
              "#bd3786"
             ],
             [
              0.5555555555555556,
              "#d8576b"
             ],
             [
              0.6666666666666666,
              "#ed7953"
             ],
             [
              0.7777777777777778,
              "#fb9f3a"
             ],
             [
              0.8888888888888888,
              "#fdca26"
             ],
             [
              1,
              "#f0f921"
             ]
            ],
            "type": "histogram2d"
           }
          ],
          "histogram2dcontour": [
           {
            "colorbar": {
             "outlinewidth": 0,
             "ticks": ""
            },
            "colorscale": [
             [
              0,
              "#0d0887"
             ],
             [
              0.1111111111111111,
              "#46039f"
             ],
             [
              0.2222222222222222,
              "#7201a8"
             ],
             [
              0.3333333333333333,
              "#9c179e"
             ],
             [
              0.4444444444444444,
              "#bd3786"
             ],
             [
              0.5555555555555556,
              "#d8576b"
             ],
             [
              0.6666666666666666,
              "#ed7953"
             ],
             [
              0.7777777777777778,
              "#fb9f3a"
             ],
             [
              0.8888888888888888,
              "#fdca26"
             ],
             [
              1,
              "#f0f921"
             ]
            ],
            "type": "histogram2dcontour"
           }
          ],
          "mesh3d": [
           {
            "colorbar": {
             "outlinewidth": 0,
             "ticks": ""
            },
            "type": "mesh3d"
           }
          ],
          "parcoords": [
           {
            "line": {
             "colorbar": {
              "outlinewidth": 0,
              "ticks": ""
             }
            },
            "type": "parcoords"
           }
          ],
          "pie": [
           {
            "automargin": true,
            "type": "pie"
           }
          ],
          "scatter": [
           {
            "marker": {
             "colorbar": {
              "outlinewidth": 0,
              "ticks": ""
             }
            },
            "type": "scatter"
           }
          ],
          "scatter3d": [
           {
            "line": {
             "colorbar": {
              "outlinewidth": 0,
              "ticks": ""
             }
            },
            "marker": {
             "colorbar": {
              "outlinewidth": 0,
              "ticks": ""
             }
            },
            "type": "scatter3d"
           }
          ],
          "scattercarpet": [
           {
            "marker": {
             "colorbar": {
              "outlinewidth": 0,
              "ticks": ""
             }
            },
            "type": "scattercarpet"
           }
          ],
          "scattergeo": [
           {
            "marker": {
             "colorbar": {
              "outlinewidth": 0,
              "ticks": ""
             }
            },
            "type": "scattergeo"
           }
          ],
          "scattergl": [
           {
            "marker": {
             "colorbar": {
              "outlinewidth": 0,
              "ticks": ""
             }
            },
            "type": "scattergl"
           }
          ],
          "scattermapbox": [
           {
            "marker": {
             "colorbar": {
              "outlinewidth": 0,
              "ticks": ""
             }
            },
            "type": "scattermapbox"
           }
          ],
          "scatterpolar": [
           {
            "marker": {
             "colorbar": {
              "outlinewidth": 0,
              "ticks": ""
             }
            },
            "type": "scatterpolar"
           }
          ],
          "scatterpolargl": [
           {
            "marker": {
             "colorbar": {
              "outlinewidth": 0,
              "ticks": ""
             }
            },
            "type": "scatterpolargl"
           }
          ],
          "scatterternary": [
           {
            "marker": {
             "colorbar": {
              "outlinewidth": 0,
              "ticks": ""
             }
            },
            "type": "scatterternary"
           }
          ],
          "surface": [
           {
            "colorbar": {
             "outlinewidth": 0,
             "ticks": ""
            },
            "colorscale": [
             [
              0,
              "#0d0887"
             ],
             [
              0.1111111111111111,
              "#46039f"
             ],
             [
              0.2222222222222222,
              "#7201a8"
             ],
             [
              0.3333333333333333,
              "#9c179e"
             ],
             [
              0.4444444444444444,
              "#bd3786"
             ],
             [
              0.5555555555555556,
              "#d8576b"
             ],
             [
              0.6666666666666666,
              "#ed7953"
             ],
             [
              0.7777777777777778,
              "#fb9f3a"
             ],
             [
              0.8888888888888888,
              "#fdca26"
             ],
             [
              1,
              "#f0f921"
             ]
            ],
            "type": "surface"
           }
          ],
          "table": [
           {
            "cells": {
             "fill": {
              "color": "#EBF0F8"
             },
             "line": {
              "color": "white"
             }
            },
            "header": {
             "fill": {
              "color": "#C8D4E3"
             },
             "line": {
              "color": "white"
             }
            },
            "type": "table"
           }
          ]
         },
         "layout": {
          "annotationdefaults": {
           "arrowcolor": "#2a3f5f",
           "arrowhead": 0,
           "arrowwidth": 1
          },
          "autotypenumbers": "strict",
          "coloraxis": {
           "colorbar": {
            "outlinewidth": 0,
            "ticks": ""
           }
          },
          "colorscale": {
           "diverging": [
            [
             0,
             "#8e0152"
            ],
            [
             0.1,
             "#c51b7d"
            ],
            [
             0.2,
             "#de77ae"
            ],
            [
             0.3,
             "#f1b6da"
            ],
            [
             0.4,
             "#fde0ef"
            ],
            [
             0.5,
             "#f7f7f7"
            ],
            [
             0.6,
             "#e6f5d0"
            ],
            [
             0.7,
             "#b8e186"
            ],
            [
             0.8,
             "#7fbc41"
            ],
            [
             0.9,
             "#4d9221"
            ],
            [
             1,
             "#276419"
            ]
           ],
           "sequential": [
            [
             0,
             "#0d0887"
            ],
            [
             0.1111111111111111,
             "#46039f"
            ],
            [
             0.2222222222222222,
             "#7201a8"
            ],
            [
             0.3333333333333333,
             "#9c179e"
            ],
            [
             0.4444444444444444,
             "#bd3786"
            ],
            [
             0.5555555555555556,
             "#d8576b"
            ],
            [
             0.6666666666666666,
             "#ed7953"
            ],
            [
             0.7777777777777778,
             "#fb9f3a"
            ],
            [
             0.8888888888888888,
             "#fdca26"
            ],
            [
             1,
             "#f0f921"
            ]
           ],
           "sequentialminus": [
            [
             0,
             "#0d0887"
            ],
            [
             0.1111111111111111,
             "#46039f"
            ],
            [
             0.2222222222222222,
             "#7201a8"
            ],
            [
             0.3333333333333333,
             "#9c179e"
            ],
            [
             0.4444444444444444,
             "#bd3786"
            ],
            [
             0.5555555555555556,
             "#d8576b"
            ],
            [
             0.6666666666666666,
             "#ed7953"
            ],
            [
             0.7777777777777778,
             "#fb9f3a"
            ],
            [
             0.8888888888888888,
             "#fdca26"
            ],
            [
             1,
             "#f0f921"
            ]
           ]
          },
          "colorway": [
           "#636efa",
           "#EF553B",
           "#00cc96",
           "#ab63fa",
           "#FFA15A",
           "#19d3f3",
           "#FF6692",
           "#B6E880",
           "#FF97FF",
           "#FECB52"
          ],
          "font": {
           "color": "#2a3f5f"
          },
          "geo": {
           "bgcolor": "white",
           "lakecolor": "white",
           "landcolor": "#E5ECF6",
           "showlakes": true,
           "showland": true,
           "subunitcolor": "white"
          },
          "hoverlabel": {
           "align": "left"
          },
          "hovermode": "closest",
          "mapbox": {
           "style": "light"
          },
          "paper_bgcolor": "white",
          "plot_bgcolor": "#E5ECF6",
          "polar": {
           "angularaxis": {
            "gridcolor": "white",
            "linecolor": "white",
            "ticks": ""
           },
           "bgcolor": "#E5ECF6",
           "radialaxis": {
            "gridcolor": "white",
            "linecolor": "white",
            "ticks": ""
           }
          },
          "scene": {
           "xaxis": {
            "backgroundcolor": "#E5ECF6",
            "gridcolor": "white",
            "gridwidth": 2,
            "linecolor": "white",
            "showbackground": true,
            "ticks": "",
            "zerolinecolor": "white"
           },
           "yaxis": {
            "backgroundcolor": "#E5ECF6",
            "gridcolor": "white",
            "gridwidth": 2,
            "linecolor": "white",
            "showbackground": true,
            "ticks": "",
            "zerolinecolor": "white"
           },
           "zaxis": {
            "backgroundcolor": "#E5ECF6",
            "gridcolor": "white",
            "gridwidth": 2,
            "linecolor": "white",
            "showbackground": true,
            "ticks": "",
            "zerolinecolor": "white"
           }
          },
          "shapedefaults": {
           "line": {
            "color": "#2a3f5f"
           }
          },
          "ternary": {
           "aaxis": {
            "gridcolor": "white",
            "linecolor": "white",
            "ticks": ""
           },
           "baxis": {
            "gridcolor": "white",
            "linecolor": "white",
            "ticks": ""
           },
           "bgcolor": "#E5ECF6",
           "caxis": {
            "gridcolor": "white",
            "linecolor": "white",
            "ticks": ""
           }
          },
          "title": {
           "x": 0.05
          },
          "xaxis": {
           "automargin": true,
           "gridcolor": "white",
           "linecolor": "white",
           "ticks": "",
           "title": {
            "standoff": 15
           },
           "zerolinecolor": "white",
           "zerolinewidth": 2
          },
          "yaxis": {
           "automargin": true,
           "gridcolor": "white",
           "linecolor": "white",
           "ticks": "",
           "title": {
            "standoff": 15
           },
           "zerolinecolor": "white",
           "zerolinewidth": 2
          }
         }
        },
        "title": {
         "font": {
          "size": 20
         },
         "text": "<b>San Francisco Citywide Performance Metrics - Arts Commission FY2020-2021<br>Source: City of San Francisco via <a href='https://catalog.data.gov/dataset/san-francisco-citywide-performance-metrics'>Data Gov</a></b>"
        }
       }
      },
      "text/html": [
       "<div>                            <div id=\"14a54fa4-f146-484e-85c8-b49d472987b8\" class=\"plotly-graph-div\" style=\"height:525px; width:100%;\"></div>            <script type=\"text/javascript\">                require([\"plotly\"], function(Plotly) {                    window.PLOTLYENV=window.PLOTLYENV || {};                                    if (document.getElementById(\"14a54fa4-f146-484e-85c8-b49d472987b8\")) {                    Plotly.newPlot(                        \"14a54fa4-f146-484e-85c8-b49d472987b8\",                        [{\"delta\":{\"font\":{\"size\":18},\"reference\":730.0},\"domain\":{\"x\":[0.4,1],\"y\":[0.13,0.2]},\"gauge\":{\"axis\":{\"range\":[null,4000]},\"bar\":{\"color\":\"LightSalmon\"},\"borderwidth\":0,\"shape\":\"bullet\",\"steps\":[{\"color\":\"IndianRed\",\"range\":[0,350]},{\"color\":\"LightCoral\",\"range\":[350,700]},{\"color\":\"Coral\",\"range\":[700,4000]}],\"threshold\":{\"line\":{\"color\":\"black\",\"width\":2},\"thickness\":0.75,\"value\":730.0}},\"mode\":\"number+gauge+delta\",\"number\":{\"font\":{\"color\":\"Coral\",\"size\":30}},\"title\":{\"font\":{\"color\":\"DarkBlue\",\"size\":16},\"text\":\"Number of envents funded by the Arts<br>Commission in a year\"},\"value\":3613.0,\"type\":\"indicator\"},{\"delta\":{\"font\":{\"size\":18},\"reference\":620.0},\"domain\":{\"x\":[0.4,1],\"y\":[0.3,0.37]},\"gauge\":{\"axis\":{\"range\":[null,800]},\"bar\":{\"color\":\"black\"},\"borderwidth\":0,\"shape\":\"bullet\",\"steps\":[{\"color\":\"dimgray\",\"range\":[0,315]},{\"color\":\"gray\",\"range\":[315,600]},{\"color\":\"lightgray\",\"range\":[600,800]}],\"threshold\":{\"line\":{\"color\":\"black\",\"width\":2},\"thickness\":0.75,\"value\":620.0}},\"mode\":\"number+gauge+delta\",\"number\":{\"font\":{\"color\":\"lightgray\",\"size\":30}},\"title\":{\"font\":{\"color\":\"DarkBlue\",\"size\":16},\"text\":\"Number of permanently-sited artworks accessible<br>to the public per year\"},\"value\":617.0,\"type\":\"indicator\"},{\"delta\":{\"font\":{\"size\":18},\"reference\":350.0},\"domain\":{\"x\":[0.4,1],\"y\":[0.47,0.54]},\"gauge\":{\"axis\":{\"range\":[null,900]},\"bar\":{\"color\":\"#f5b400\"},\"borderwidth\":0,\"shape\":\"bullet\",\"steps\":[{\"color\":\"#823e00\",\"range\":[0,150]},{\"color\":\"#bc5d00\",\"range\":[150,300]},{\"color\":\"#ff7e00 \",\"range\":[300,900]}],\"threshold\":{\"line\":{\"color\":\"black\",\"width\":2},\"thickness\":0.75,\"value\":350.0}},\"mode\":\"number+gauge+delta\",\"number\":{\"font\":{\"color\":\"#ff7e00\",\"size\":30}},\"title\":{\"font\":{\"color\":\"DarkBlue\",\"size\":16},\"text\":\"Number of artists and organizations attending<br>capacity Workshops per year\"},\"value\":737.0,\"type\":\"indicator\"},{\"delta\":{\"font\":{\"size\":18},\"reference\":345.0},\"domain\":{\"x\":[0.4,1],\"y\":[0.64,0.71]},\"gauge\":{\"axis\":{\"range\":[null,500]},\"bar\":{\"color\":\"#b2dff8\"},\"borderwidth\":0,\"shape\":\"bullet\",\"steps\":[{\"color\":\"#0f354d\",\"range\":[0,175]},{\"color\":\"#144f6e\",\"range\":[175,300]},{\"color\":\"#1e77a0\",\"range\":[300,500]}],\"threshold\":{\"line\":{\"color\":\"black\",\"width\":2},\"thickness\":0.75,\"value\":345.0}},\"mode\":\"number+gauge+delta\",\"number\":{\"font\":{\"color\":\"#144f6e\",\"size\":30}},\"title\":{\"font\":{\"color\":\"DarkBlue\",\"size\":16},\"text\":\"Number of payments to individual artists<br>by the Arts Commission\"},\"value\":244.0,\"type\":\"indicator\"},{\"delta\":{\"font\":{\"size\":18},\"reference\":16000000.0},\"domain\":{\"x\":[0.4,1],\"y\":[0.81,0.88]},\"gauge\":{\"axis\":{\"range\":[null,17000000]},\"bar\":{\"color\":\"YellowGreen\"},\"borderwidth\":0,\"shape\":\"bullet\",\"steps\":[{\"color\":\"#536600\",\"range\":[0,7500000]},{\"color\":\"#7d9600\",\"range\":[7500000,15000000]},{\"color\":\"#a8c125\",\"range\":[15000000,17000000]}],\"threshold\":{\"line\":{\"color\":\"black\",\"width\":2},\"thickness\":0.75,\"value\":16000000.0}},\"mode\":\"number+gauge+delta\",\"number\":{\"font\":{\"color\":\"#7d9600\",\"size\":30}},\"title\":{\"font\":{\"color\":\"DarkBlue\",\"size\":16},\"text\":\"Total of direct investment in artists and organizations<br>(\\u20ac/year)\"},\"value\":13448750.0,\"type\":\"indicator\"}],                        {\"template\":{\"data\":{\"bar\":[{\"error_x\":{\"color\":\"#2a3f5f\"},\"error_y\":{\"color\":\"#2a3f5f\"},\"marker\":{\"line\":{\"color\":\"#E5ECF6\",\"width\":0.5},\"pattern\":{\"fillmode\":\"overlay\",\"size\":10,\"solidity\":0.2}},\"type\":\"bar\"}],\"barpolar\":[{\"marker\":{\"line\":{\"color\":\"#E5ECF6\",\"width\":0.5},\"pattern\":{\"fillmode\":\"overlay\",\"size\":10,\"solidity\":0.2}},\"type\":\"barpolar\"}],\"carpet\":[{\"aaxis\":{\"endlinecolor\":\"#2a3f5f\",\"gridcolor\":\"white\",\"linecolor\":\"white\",\"minorgridcolor\":\"white\",\"startlinecolor\":\"#2a3f5f\"},\"baxis\":{\"endlinecolor\":\"#2a3f5f\",\"gridcolor\":\"white\",\"linecolor\":\"white\",\"minorgridcolor\":\"white\",\"startlinecolor\":\"#2a3f5f\"},\"type\":\"carpet\"}],\"choropleth\":[{\"colorbar\":{\"outlinewidth\":0,\"ticks\":\"\"},\"type\":\"choropleth\"}],\"contour\":[{\"colorbar\":{\"outlinewidth\":0,\"ticks\":\"\"},\"colorscale\":[[0.0,\"#0d0887\"],[0.1111111111111111,\"#46039f\"],[0.2222222222222222,\"#7201a8\"],[0.3333333333333333,\"#9c179e\"],[0.4444444444444444,\"#bd3786\"],[0.5555555555555556,\"#d8576b\"],[0.6666666666666666,\"#ed7953\"],[0.7777777777777778,\"#fb9f3a\"],[0.8888888888888888,\"#fdca26\"],[1.0,\"#f0f921\"]],\"type\":\"contour\"}],\"contourcarpet\":[{\"colorbar\":{\"outlinewidth\":0,\"ticks\":\"\"},\"type\":\"contourcarpet\"}],\"heatmap\":[{\"colorbar\":{\"outlinewidth\":0,\"ticks\":\"\"},\"colorscale\":[[0.0,\"#0d0887\"],[0.1111111111111111,\"#46039f\"],[0.2222222222222222,\"#7201a8\"],[0.3333333333333333,\"#9c179e\"],[0.4444444444444444,\"#bd3786\"],[0.5555555555555556,\"#d8576b\"],[0.6666666666666666,\"#ed7953\"],[0.7777777777777778,\"#fb9f3a\"],[0.8888888888888888,\"#fdca26\"],[1.0,\"#f0f921\"]],\"type\":\"heatmap\"}],\"heatmapgl\":[{\"colorbar\":{\"outlinewidth\":0,\"ticks\":\"\"},\"colorscale\":[[0.0,\"#0d0887\"],[0.1111111111111111,\"#46039f\"],[0.2222222222222222,\"#7201a8\"],[0.3333333333333333,\"#9c179e\"],[0.4444444444444444,\"#bd3786\"],[0.5555555555555556,\"#d8576b\"],[0.6666666666666666,\"#ed7953\"],[0.7777777777777778,\"#fb9f3a\"],[0.8888888888888888,\"#fdca26\"],[1.0,\"#f0f921\"]],\"type\":\"heatmapgl\"}],\"histogram\":[{\"marker\":{\"pattern\":{\"fillmode\":\"overlay\",\"size\":10,\"solidity\":0.2}},\"type\":\"histogram\"}],\"histogram2d\":[{\"colorbar\":{\"outlinewidth\":0,\"ticks\":\"\"},\"colorscale\":[[0.0,\"#0d0887\"],[0.1111111111111111,\"#46039f\"],[0.2222222222222222,\"#7201a8\"],[0.3333333333333333,\"#9c179e\"],[0.4444444444444444,\"#bd3786\"],[0.5555555555555556,\"#d8576b\"],[0.6666666666666666,\"#ed7953\"],[0.7777777777777778,\"#fb9f3a\"],[0.8888888888888888,\"#fdca26\"],[1.0,\"#f0f921\"]],\"type\":\"histogram2d\"}],\"histogram2dcontour\":[{\"colorbar\":{\"outlinewidth\":0,\"ticks\":\"\"},\"colorscale\":[[0.0,\"#0d0887\"],[0.1111111111111111,\"#46039f\"],[0.2222222222222222,\"#7201a8\"],[0.3333333333333333,\"#9c179e\"],[0.4444444444444444,\"#bd3786\"],[0.5555555555555556,\"#d8576b\"],[0.6666666666666666,\"#ed7953\"],[0.7777777777777778,\"#fb9f3a\"],[0.8888888888888888,\"#fdca26\"],[1.0,\"#f0f921\"]],\"type\":\"histogram2dcontour\"}],\"mesh3d\":[{\"colorbar\":{\"outlinewidth\":0,\"ticks\":\"\"},\"type\":\"mesh3d\"}],\"parcoords\":[{\"line\":{\"colorbar\":{\"outlinewidth\":0,\"ticks\":\"\"}},\"type\":\"parcoords\"}],\"pie\":[{\"automargin\":true,\"type\":\"pie\"}],\"scatter\":[{\"marker\":{\"colorbar\":{\"outlinewidth\":0,\"ticks\":\"\"}},\"type\":\"scatter\"}],\"scatter3d\":[{\"line\":{\"colorbar\":{\"outlinewidth\":0,\"ticks\":\"\"}},\"marker\":{\"colorbar\":{\"outlinewidth\":0,\"ticks\":\"\"}},\"type\":\"scatter3d\"}],\"scattercarpet\":[{\"marker\":{\"colorbar\":{\"outlinewidth\":0,\"ticks\":\"\"}},\"type\":\"scattercarpet\"}],\"scattergeo\":[{\"marker\":{\"colorbar\":{\"outlinewidth\":0,\"ticks\":\"\"}},\"type\":\"scattergeo\"}],\"scattergl\":[{\"marker\":{\"colorbar\":{\"outlinewidth\":0,\"ticks\":\"\"}},\"type\":\"scattergl\"}],\"scattermapbox\":[{\"marker\":{\"colorbar\":{\"outlinewidth\":0,\"ticks\":\"\"}},\"type\":\"scattermapbox\"}],\"scatterpolar\":[{\"marker\":{\"colorbar\":{\"outlinewidth\":0,\"ticks\":\"\"}},\"type\":\"scatterpolar\"}],\"scatterpolargl\":[{\"marker\":{\"colorbar\":{\"outlinewidth\":0,\"ticks\":\"\"}},\"type\":\"scatterpolargl\"}],\"scatterternary\":[{\"marker\":{\"colorbar\":{\"outlinewidth\":0,\"ticks\":\"\"}},\"type\":\"scatterternary\"}],\"surface\":[{\"colorbar\":{\"outlinewidth\":0,\"ticks\":\"\"},\"colorscale\":[[0.0,\"#0d0887\"],[0.1111111111111111,\"#46039f\"],[0.2222222222222222,\"#7201a8\"],[0.3333333333333333,\"#9c179e\"],[0.4444444444444444,\"#bd3786\"],[0.5555555555555556,\"#d8576b\"],[0.6666666666666666,\"#ed7953\"],[0.7777777777777778,\"#fb9f3a\"],[0.8888888888888888,\"#fdca26\"],[1.0,\"#f0f921\"]],\"type\":\"surface\"}],\"table\":[{\"cells\":{\"fill\":{\"color\":\"#EBF0F8\"},\"line\":{\"color\":\"white\"}},\"header\":{\"fill\":{\"color\":\"#C8D4E3\"},\"line\":{\"color\":\"white\"}},\"type\":\"table\"}]},\"layout\":{\"annotationdefaults\":{\"arrowcolor\":\"#2a3f5f\",\"arrowhead\":0,\"arrowwidth\":1},\"autotypenumbers\":\"strict\",\"coloraxis\":{\"colorbar\":{\"outlinewidth\":0,\"ticks\":\"\"}},\"colorscale\":{\"diverging\":[[0,\"#8e0152\"],[0.1,\"#c51b7d\"],[0.2,\"#de77ae\"],[0.3,\"#f1b6da\"],[0.4,\"#fde0ef\"],[0.5,\"#f7f7f7\"],[0.6,\"#e6f5d0\"],[0.7,\"#b8e186\"],[0.8,\"#7fbc41\"],[0.9,\"#4d9221\"],[1,\"#276419\"]],\"sequential\":[[0.0,\"#0d0887\"],[0.1111111111111111,\"#46039f\"],[0.2222222222222222,\"#7201a8\"],[0.3333333333333333,\"#9c179e\"],[0.4444444444444444,\"#bd3786\"],[0.5555555555555556,\"#d8576b\"],[0.6666666666666666,\"#ed7953\"],[0.7777777777777778,\"#fb9f3a\"],[0.8888888888888888,\"#fdca26\"],[1.0,\"#f0f921\"]],\"sequentialminus\":[[0.0,\"#0d0887\"],[0.1111111111111111,\"#46039f\"],[0.2222222222222222,\"#7201a8\"],[0.3333333333333333,\"#9c179e\"],[0.4444444444444444,\"#bd3786\"],[0.5555555555555556,\"#d8576b\"],[0.6666666666666666,\"#ed7953\"],[0.7777777777777778,\"#fb9f3a\"],[0.8888888888888888,\"#fdca26\"],[1.0,\"#f0f921\"]]},\"colorway\":[\"#636efa\",\"#EF553B\",\"#00cc96\",\"#ab63fa\",\"#FFA15A\",\"#19d3f3\",\"#FF6692\",\"#B6E880\",\"#FF97FF\",\"#FECB52\"],\"font\":{\"color\":\"#2a3f5f\"},\"geo\":{\"bgcolor\":\"white\",\"lakecolor\":\"white\",\"landcolor\":\"#E5ECF6\",\"showlakes\":true,\"showland\":true,\"subunitcolor\":\"white\"},\"hoverlabel\":{\"align\":\"left\"},\"hovermode\":\"closest\",\"mapbox\":{\"style\":\"light\"},\"paper_bgcolor\":\"white\",\"plot_bgcolor\":\"#E5ECF6\",\"polar\":{\"angularaxis\":{\"gridcolor\":\"white\",\"linecolor\":\"white\",\"ticks\":\"\"},\"bgcolor\":\"#E5ECF6\",\"radialaxis\":{\"gridcolor\":\"white\",\"linecolor\":\"white\",\"ticks\":\"\"}},\"scene\":{\"xaxis\":{\"backgroundcolor\":\"#E5ECF6\",\"gridcolor\":\"white\",\"gridwidth\":2,\"linecolor\":\"white\",\"showbackground\":true,\"ticks\":\"\",\"zerolinecolor\":\"white\"},\"yaxis\":{\"backgroundcolor\":\"#E5ECF6\",\"gridcolor\":\"white\",\"gridwidth\":2,\"linecolor\":\"white\",\"showbackground\":true,\"ticks\":\"\",\"zerolinecolor\":\"white\"},\"zaxis\":{\"backgroundcolor\":\"#E5ECF6\",\"gridcolor\":\"white\",\"gridwidth\":2,\"linecolor\":\"white\",\"showbackground\":true,\"ticks\":\"\",\"zerolinecolor\":\"white\"}},\"shapedefaults\":{\"line\":{\"color\":\"#2a3f5f\"}},\"ternary\":{\"aaxis\":{\"gridcolor\":\"white\",\"linecolor\":\"white\",\"ticks\":\"\"},\"baxis\":{\"gridcolor\":\"white\",\"linecolor\":\"white\",\"ticks\":\"\"},\"bgcolor\":\"#E5ECF6\",\"caxis\":{\"gridcolor\":\"white\",\"linecolor\":\"white\",\"ticks\":\"\"}},\"title\":{\"x\":0.05},\"xaxis\":{\"automargin\":true,\"gridcolor\":\"white\",\"linecolor\":\"white\",\"ticks\":\"\",\"title\":{\"standoff\":15},\"zerolinecolor\":\"white\",\"zerolinewidth\":2},\"yaxis\":{\"automargin\":true,\"gridcolor\":\"white\",\"linecolor\":\"white\",\"ticks\":\"\",\"title\":{\"standoff\":15},\"zerolinecolor\":\"white\",\"zerolinewidth\":2}}},\"title\":{\"font\":{\"size\":20},\"text\":\"<b>San Francisco Citywide Performance Metrics - Arts Commission FY2020-2021<br>Source: City of San Francisco via <a href='https://catalog.data.gov/dataset/san-francisco-citywide-performance-metrics'>Data Gov</a></b>\"},\"font\":{\"size\":10,\"color\":\"black\"},\"plot_bgcolor\":\"GhostWhite\",\"paper_bgcolor\":\"GhostWhite\"},                        {\"responsive\": true}                    ).then(function(){\n",
       "                            \n",
       "var gd = document.getElementById('14a54fa4-f146-484e-85c8-b49d472987b8');\n",
       "var x = new MutationObserver(function (mutations, observer) {{\n",
       "        var display = window.getComputedStyle(gd).display;\n",
       "        if (!display || display === 'none') {{\n",
       "            console.log([gd, 'removed!']);\n",
       "            Plotly.purge(gd);\n",
       "            observer.disconnect();\n",
       "        }}\n",
       "}});\n",
       "\n",
       "// Listen for the removal of the full notebook cells\n",
       "var notebookContainer = gd.closest('#notebook-container');\n",
       "if (notebookContainer) {{\n",
       "    x.observe(notebookContainer, {childList: true});\n",
       "}}\n",
       "\n",
       "// Listen for the clearing of the current output cell\n",
       "var outputEl = gd.closest('.output');\n",
       "if (outputEl) {{\n",
       "    x.observe(outputEl, {childList: true});\n",
       "}}\n",
       "\n",
       "                        })                };                });            </script>        </div>"
      ]
     },
     "metadata": {},
     "output_type": "display_data"
    }
   ],
   "source": [
    "import plotly.graph_objects as go\n",
    "import pandas as pd\n",
    "\n",
    "df = pd.read_csv ('San_Francisco_Citywide_Performance_Metrics.csv', sep=';')\n",
    "df_arts = df[df['Department Name'] == 'ARTS COMMISSION'][df['Fiscal Year'] == 'FY2020-21' ].copy()\n",
    "\n",
    "fig = go.Figure()\n",
    "\n",
    "fig.add_trace(go.Indicator(\n",
    "    mode = \"number+gauge+delta\",\n",
    "    value = df_arts['Full-Year Result'].iloc[0],\n",
    "    number = {'font': {'size': 30, 'color': \"Coral\"}},\n",
    "    delta = {'reference': df_arts['Target'].iloc[0], 'font': {'size': 18}},\n",
    "    domain = {'x': [0.4, 1], 'y': [0.13, 0.2]},\n",
    "    title = {'text': 'Number of envents funded by the Arts<br>Commission in a year', 'font': {'size': 16, 'color': \"DarkBlue\"}},    \n",
    "    gauge = {\n",
    "        'shape': \"bullet\",\n",
    "        'borderwidth': 0,\n",
    "        'axis': {'range': [None, 4000]},\n",
    "        'threshold': {\n",
    "            'line': {'color': \"black\", 'width': 2},\n",
    "            'thickness': 0.75,\n",
    "            'value': df_arts['Target'].iloc[0]},\n",
    "        'steps': [\n",
    "            {'range': [0, 350], 'color': \"IndianRed\"},\n",
    "            {'range': [350, 700], 'color': \"LightCoral\"},\n",
    "            {'range': [700, 4000], 'color': \"Coral\"}],        \n",
    "        'bar': {'color': \"LightSalmon\"}}))\n",
    "\n",
    "fig.add_trace(go.Indicator(\n",
    "    mode = \"number+gauge+delta\",\n",
    "    value = df_arts['Full-Year Result'].iloc[1],\n",
    "    number = {'font': {'size': 30, 'color': \"lightgray\"}},\n",
    "    delta = {'reference': df_arts['Target'].iloc[1], 'font': {'size': 18}},\n",
    "    domain = {'x': [0.4, 1], 'y': [0.3, 0.37]},\n",
    "    title = {'text': 'Number of permanently-sited artworks accessible<br>to the public per year', 'font': {'size': 16, 'color': \"DarkBlue\"}},    \n",
    "    gauge = {\n",
    "        'shape': \"bullet\",\n",
    "        'borderwidth': 0,\n",
    "        'axis': {'range': [None, 800]},\n",
    "        'threshold': {\n",
    "            'line': {'color': \"black\", 'width': 2},\n",
    "            'thickness': 0.75,\n",
    "            'value': df_arts['Target'].iloc[1]},\n",
    "        'steps': [\n",
    "            {'range': [0, 315], 'color': \"dimgray\"},\n",
    "            {'range': [315, 600], 'color': \"gray\"},\n",
    "            {'range': [600, 800], 'color': \"lightgray\"}],        \n",
    "        'bar': {'color': \"black\"}}))\n",
    "\n",
    "fig.add_trace(go.Indicator(\n",
    "    mode = \"number+gauge+delta\",\n",
    "    value = df_arts['Full-Year Result'].iloc[4],\n",
    "    number = {'font': {'size': 30, 'color': \"#ff7e00\"}},\n",
    "    delta = {'reference': df_arts['Target'].iloc[4], 'font': {'size': 18}},\n",
    "    domain = {'x': [0.4, 1], 'y': [0.47, 0.54]},\n",
    "    title = {'text' : 'Number of artists and organizations attending<br>capacity Workshops per year', 'font': {'size': 16, 'color': \"DarkBlue\"}},    \n",
    "    gauge = {\n",
    "        'shape': \"bullet\",\n",
    "        'borderwidth': 0,\n",
    "        'axis': {'range': [None, 900]},\n",
    "        'threshold': {\n",
    "            'line': {'color': \"black\", 'width': 2},\n",
    "            'thickness': 0.75,\n",
    "            'value': df_arts['Target'].iloc[4]},\n",
    "        'steps': [\n",
    "            {'range': [0, 150], 'color': '#823e00' },\n",
    "            {'range': [150, 300], 'color': \"#bc5d00\"},\n",
    "            {'range': [300, 900], 'color': \"#ff7e00 \"}],  \n",
    "        'bar': {'color': \"#f5b400\"}}))\n",
    "\n",
    "fig.add_trace(go.Indicator(\n",
    "    mode = \"number+gauge+delta\",\n",
    "    value = df_arts['Full-Year Result'].iloc[5],\n",
    "    number = {'font': {'size': 30, 'color': \"#144f6e\"}},\n",
    "    delta = {'reference': df_arts['Target'].iloc[5], 'font': {'size': 18}},\n",
    "    domain = {'x': [0.4, 1], 'y': [0.64, 0.71]},\n",
    "    title = {'text' : 'Number of payments to individual artists<br>by the Arts Commission', 'font': {'size': 16, 'color': \"DarkBlue\"}},    \n",
    "    gauge = {\n",
    "        'shape': \"bullet\",\n",
    "        'borderwidth': 0,\n",
    "        'axis': {'range': [None, 500]},\n",
    "        'threshold': {\n",
    "            'line': {'color': \"black\", 'width': 2},\n",
    "            'thickness': 0.75,\n",
    "            'value': df_arts['Target'].iloc[5]},\n",
    "        'steps': [\n",
    "            {'range': [0, 175], 'color': \"#0f354d\"},\n",
    "            {'range': [175, 300], 'color': \"#144f6e\"},\n",
    "            {'range': [300, 500], 'color': \"#1e77a0\"}],  \n",
    "        'bar': {'color': \"#b2dff8\"}}))\n",
    "\n",
    "fig.add_trace(go.Indicator(\n",
    "    mode = \"number+gauge+delta\", \n",
    "    value = df_arts['Full-Year Result'].iloc[6],  \n",
    "    number = {'font': {'size': 30, 'color': \"#7d9600\"}},\n",
    "    delta = {'reference': df_arts['Target'].iloc[6], 'font': {'size': 18}},\n",
    "    domain = {'x': [0.4, 1], 'y': [0.81, 0.88]},\n",
    "    title = {'text' : 'Total of direct investment in artists and organizations<br>(€/year)', 'font': {'size': 16, 'color': \"DarkBlue\"}},    \n",
    "    gauge = {\n",
    "        'shape': \"bullet\",\n",
    "        'borderwidth': 0,\n",
    "        'axis': {'range': [None, 17000000]},        \n",
    "        'threshold': {\n",
    "            'line': {'color': \"black\", 'width': 2},            \n",
    "            'thickness': 0.75,\n",
    "            'value': df_arts['Target'].iloc[6]},\n",
    "        'steps': [\n",
    "            {'range': [0, 7500000], 'color': \"#536600\"},\n",
    "            {'range': [7500000, 15000000], 'color': \"#7d9600\"},\n",
    "            {'range': [15000000, 17000000], 'color': \"#a8c125\"}],  \n",
    "        'bar': {'color': \"YellowGreen\"}}))\n",
    "\n",
    "fig.update_layout(    \n",
    "    title = {'text': \"<b>San Francisco Citywide Performance Metrics - Arts Commission FY2020-2021<br>Source: City of San Francisco via <a href='https://catalog.data.gov/dataset/san-francisco-citywide-performance-metrics'>Data Gov</a></b>\", 'font': {'size': 20}},       \n",
    "    font=dict(size = 10, color = 'black'),    \n",
    "    plot_bgcolor='GhostWhite',\n",
    "    paper_bgcolor='GhostWhite'\n",
    ")\n",
    "fig.show()\n",
    "fig.write_html(\"index.html\")"
   ]
  },
  {
   "cell_type": "markdown",
   "id": "16a65e20",
   "metadata": {},
   "source": []
  },
  {
   "cell_type": "code",
   "execution_count": 20,
   "id": "532690ce",
   "metadata": {},
   "outputs": [
    {
     "name": "stderr",
     "output_type": "stream",
     "text": [
      "C:\\Users\\Administrador\\AppData\\Local\\Temp\\ipykernel_11516\\1422791377.py:1: UserWarning:\n",
      "\n",
      "Boolean Series key will be reindexed to match DataFrame index.\n",
      "\n"
     ]
    }
   ],
   "source": []
  },
  {
   "cell_type": "code",
   "execution_count": 47,
   "id": "55f3d246",
   "metadata": {},
   "outputs": [
    {
     "data": {
      "text/html": [
       "<div>\n",
       "<style scoped>\n",
       "    .dataframe tbody tr th:only-of-type {\n",
       "        vertical-align: middle;\n",
       "    }\n",
       "\n",
       "    .dataframe tbody tr th {\n",
       "        vertical-align: top;\n",
       "    }\n",
       "\n",
       "    .dataframe thead th {\n",
       "        text-align: right;\n",
       "    }\n",
       "</style>\n",
       "<table border=\"1\" class=\"dataframe\">\n",
       "  <thead>\n",
       "    <tr style=\"text-align: right;\">\n",
       "      <th></th>\n",
       "      <th>Department Name</th>\n",
       "      <th>Strategic Goal</th>\n",
       "      <th>Measure Title</th>\n",
       "      <th>Measure Description</th>\n",
       "      <th>Measure Methodology</th>\n",
       "      <th>Measure Data Type</th>\n",
       "      <th>Fiscal Year</th>\n",
       "      <th>End Calendar Year</th>\n",
       "      <th>Target</th>\n",
       "      <th>Mid-Year Result</th>\n",
       "      <th>Mid-Year Projection</th>\n",
       "      <th>Full-Year Result</th>\n",
       "      <th>Data Notes</th>\n",
       "    </tr>\n",
       "  </thead>\n",
       "  <tbody>\n",
       "    <tr>\n",
       "      <th>423</th>\n",
       "      <td>ARTS COMMISSION</td>\n",
       "      <td>Build public awareness of the value and benefi...</td>\n",
       "      <td>Number of arts and culture events funded by th...</td>\n",
       "      <td>NaN</td>\n",
       "      <td>NaN</td>\n",
       "      <td>Numeric</td>\n",
       "      <td>FY2020-21</td>\n",
       "      <td>2021.0</td>\n",
       "      <td>730.0</td>\n",
       "      <td>192</td>\n",
       "      <td>450</td>\n",
       "      <td>3613.0</td>\n",
       "      <td>NaN</td>\n",
       "    </tr>\n",
       "    <tr>\n",
       "      <th>429</th>\n",
       "      <td>ARTS COMMISSION</td>\n",
       "      <td>Enliven the urban environment</td>\n",
       "      <td>Number of permanently-sited artworks accessibl...</td>\n",
       "      <td>NaN</td>\n",
       "      <td>NaN</td>\n",
       "      <td>Numeric</td>\n",
       "      <td>FY2020-21</td>\n",
       "      <td>2021.0</td>\n",
       "      <td>620.0</td>\n",
       "      <td>609</td>\n",
       "      <td>609</td>\n",
       "      <td>617.0</td>\n",
       "      <td>NaN</td>\n",
       "    </tr>\n",
       "    <tr>\n",
       "      <th>435</th>\n",
       "      <td>ARTS COMMISSION</td>\n",
       "      <td>Improve operations to better serve the San Fra...</td>\n",
       "      <td># of employees for whom performance appraisals...</td>\n",
       "      <td>This is the number of employees in a departmen...</td>\n",
       "      <td>Collection Method: Performance plans will be l...</td>\n",
       "      <td>Numeric</td>\n",
       "      <td>FY2020-21</td>\n",
       "      <td>2021.0</td>\n",
       "      <td>40.0</td>\n",
       "      <td>36</td>\n",
       "      <td>36</td>\n",
       "      <td>37.0</td>\n",
       "      <td>NaN</td>\n",
       "    </tr>\n",
       "    <tr>\n",
       "      <th>441</th>\n",
       "      <td>ARTS COMMISSION</td>\n",
       "      <td>Improve operations to better serve the San Fra...</td>\n",
       "      <td># of employees for whom scheduled performance ...</td>\n",
       "      <td>Percentage of staff with completed performance...</td>\n",
       "      <td>Collection Method: Performance plans will be l...</td>\n",
       "      <td>Numeric</td>\n",
       "      <td>FY2020-21</td>\n",
       "      <td>2021.0</td>\n",
       "      <td>40.0</td>\n",
       "      <td>36</td>\n",
       "      <td>36</td>\n",
       "      <td>37.0</td>\n",
       "      <td>NaN</td>\n",
       "    </tr>\n",
       "    <tr>\n",
       "      <th>447</th>\n",
       "      <td>ARTS COMMISSION</td>\n",
       "      <td>Invest in a vibrant arts community</td>\n",
       "      <td>Number of artists and organizations attending ...</td>\n",
       "      <td>Number of artists and representatives of arts ...</td>\n",
       "      <td>\"Collection Method: Program staff tracks rsvps...</td>\n",
       "      <td>Numeric</td>\n",
       "      <td>FY2020-21</td>\n",
       "      <td>2021.0</td>\n",
       "      <td>350.0</td>\n",
       "      <td>200</td>\n",
       "      <td>350</td>\n",
       "      <td>737.0</td>\n",
       "      <td>NaN</td>\n",
       "    </tr>\n",
       "    <tr>\n",
       "      <th>453</th>\n",
       "      <td>ARTS COMMISSION</td>\n",
       "      <td>Invest in a vibrant arts community</td>\n",
       "      <td>Number of payments to individual artists by th...</td>\n",
       "      <td>NaN</td>\n",
       "      <td>NaN</td>\n",
       "      <td>Numeric</td>\n",
       "      <td>FY2020-21</td>\n",
       "      <td>2021.0</td>\n",
       "      <td>345.0</td>\n",
       "      <td>180</td>\n",
       "      <td>250</td>\n",
       "      <td>244.0</td>\n",
       "      <td>NaN</td>\n",
       "    </tr>\n",
       "    <tr>\n",
       "      <th>459</th>\n",
       "      <td>ARTS COMMISSION</td>\n",
       "      <td>Invest in a vibrant arts community</td>\n",
       "      <td>Total amount of direct investment in artists a...</td>\n",
       "      <td>NaN</td>\n",
       "      <td>NaN</td>\n",
       "      <td>Currency</td>\n",
       "      <td>FY2020-21</td>\n",
       "      <td>2021.0</td>\n",
       "      <td>16000000.0</td>\n",
       "      <td>8178776</td>\n",
       "      <td>17000000</td>\n",
       "      <td>13448750.0</td>\n",
       "      <td>NaN</td>\n",
       "    </tr>\n",
       "  </tbody>\n",
       "</table>\n",
       "</div>"
      ],
      "text/plain": [
       "     Department Name                                     Strategic Goal  \\\n",
       "423  ARTS COMMISSION  Build public awareness of the value and benefi...   \n",
       "429  ARTS COMMISSION                      Enliven the urban environment   \n",
       "435  ARTS COMMISSION  Improve operations to better serve the San Fra...   \n",
       "441  ARTS COMMISSION  Improve operations to better serve the San Fra...   \n",
       "447  ARTS COMMISSION                 Invest in a vibrant arts community   \n",
       "453  ARTS COMMISSION                 Invest in a vibrant arts community   \n",
       "459  ARTS COMMISSION                 Invest in a vibrant arts community   \n",
       "\n",
       "                                         Measure Title  \\\n",
       "423  Number of arts and culture events funded by th...   \n",
       "429  Number of permanently-sited artworks accessibl...   \n",
       "435  # of employees for whom performance appraisals...   \n",
       "441  # of employees for whom scheduled performance ...   \n",
       "447  Number of artists and organizations attending ...   \n",
       "453  Number of payments to individual artists by th...   \n",
       "459  Total amount of direct investment in artists a...   \n",
       "\n",
       "                                   Measure Description  \\\n",
       "423                                                NaN   \n",
       "429                                                NaN   \n",
       "435  This is the number of employees in a departmen...   \n",
       "441  Percentage of staff with completed performance...   \n",
       "447  Number of artists and representatives of arts ...   \n",
       "453                                                NaN   \n",
       "459                                                NaN   \n",
       "\n",
       "                                   Measure Methodology Measure Data Type  \\\n",
       "423                                                NaN           Numeric   \n",
       "429                                                NaN           Numeric   \n",
       "435  Collection Method: Performance plans will be l...           Numeric   \n",
       "441  Collection Method: Performance plans will be l...           Numeric   \n",
       "447  \"Collection Method: Program staff tracks rsvps...           Numeric   \n",
       "453                                                NaN           Numeric   \n",
       "459                                                NaN          Currency   \n",
       "\n",
       "    Fiscal Year  End Calendar Year      Target Mid-Year Result  \\\n",
       "423   FY2020-21             2021.0       730.0             192   \n",
       "429   FY2020-21             2021.0       620.0             609   \n",
       "435   FY2020-21             2021.0        40.0              36   \n",
       "441   FY2020-21             2021.0        40.0              36   \n",
       "447   FY2020-21             2021.0       350.0             200   \n",
       "453   FY2020-21             2021.0       345.0             180   \n",
       "459   FY2020-21             2021.0  16000000.0         8178776   \n",
       "\n",
       "    Mid-Year Projection  Full-Year Result Data Notes  \n",
       "423                 450            3613.0        NaN  \n",
       "429                 609             617.0        NaN  \n",
       "435                  36              37.0        NaN  \n",
       "441                  36              37.0        NaN  \n",
       "447                 350             737.0        NaN  \n",
       "453                 250             244.0        NaN  \n",
       "459            17000000        13448750.0        NaN  "
      ]
     },
     "execution_count": 47,
     "metadata": {},
     "output_type": "execute_result"
    }
   ],
   "source": [
    "df_arts"
   ]
  },
  {
   "cell_type": "code",
   "execution_count": 24,
   "id": "7a54664c",
   "metadata": {},
   "outputs": [
    {
     "data": {
      "text/plain": [
       "'Number of arts and culture events funded by the Arts Commission in a year'"
      ]
     },
     "execution_count": 24,
     "metadata": {},
     "output_type": "execute_result"
    }
   ],
   "source": [
    "df_arts['Measure Title'].iloc[0]"
   ]
  },
  {
   "cell_type": "code",
   "execution_count": null,
   "id": "5aaa636a",
   "metadata": {},
   "outputs": [],
   "source": []
  }
 ],
 "metadata": {
  "kernelspec": {
   "display_name": "Python 3 (ipykernel)",
   "language": "python",
   "name": "python3"
  },
  "language_info": {
   "codemirror_mode": {
    "name": "ipython",
    "version": 3
   },
   "file_extension": ".py",
   "mimetype": "text/x-python",
   "name": "python",
   "nbconvert_exporter": "python",
   "pygments_lexer": "ipython3",
   "version": "3.9.1"
  }
 },
 "nbformat": 4,
 "nbformat_minor": 5
}
